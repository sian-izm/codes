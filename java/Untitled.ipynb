{
 "cells": [
  {
   "cell_type": "code",
   "execution_count": 2,
   "id": "05518159",
   "metadata": {},
   "outputs": [
    {
     "name": "stdout",
     "output_type": "stream",
     "text": [
      "abc\n"
     ]
    }
   ],
   "source": [
    "print(\"abc\")"
   ]
  },
  {
   "cell_type": "code",
   "execution_count": 3,
   "id": "fa436531",
   "metadata": {},
   "outputs": [],
   "source": [
    "a = 1"
   ]
  },
  {
   "cell_type": "code",
   "execution_count": 4,
   "id": "07066aa6",
   "metadata": {},
   "outputs": [],
   "source": [
    "b= 2\n"
   ]
  },
  {
   "cell_type": "code",
   "execution_count": 5,
   "id": "fee66212",
   "metadata": {},
   "outputs": [
    {
     "data": {
      "text/plain": [
       "3"
      ]
     },
     "execution_count": 5,
     "metadata": {},
     "output_type": "execute_result"
    }
   ],
   "source": [
    "a + b\n"
   ]
  },
  {
   "cell_type": "code",
   "execution_count": 6,
   "id": "70867024",
   "metadata": {},
   "outputs": [
    {
     "name": "stdout",
     "output_type": "stream",
     "text": [
      "3\n"
     ]
    }
   ],
   "source": [
    "print(a+b\n",
    "     )"
   ]
  },
  {
   "cell_type": "code",
   "execution_count": 8,
   "id": "91c22834",
   "metadata": {},
   "outputs": [
    {
     "name": "stdout",
     "output_type": "stream",
     "text": [
      "mogo\n"
     ]
    }
   ],
   "source": [
    "if a == 2:\n",
    "    print(\"hoge\")\n",
    "elif a == 1:\n",
    "    print(\"mogo\")\n"
   ]
  },
  {
   "cell_type": "code",
   "execution_count": 14,
   "id": "31e5d570",
   "metadata": {},
   "outputs": [
    {
     "data": {
      "text/plain": [
       "True"
      ]
     },
     "execution_count": 14,
     "metadata": {},
     "output_type": "execute_result"
    }
   ],
   "source": [
    "def is_palindrome(str):\n",
    "    length = len(str)\n",
    "    for n in range(0, round(length/2)):\n",
    "        if str[n] != str[length-n-1]:\n",
    "            return False\n",
    "    return True\n",
    "\n",
    "is_palindrome(\"abba\")"
   ]
  },
  {
   "cell_type": "code",
   "execution_count": 19,
   "id": "8915a8c7",
   "metadata": {},
   "outputs": [
    {
     "data": {
      "text/plain": [
       "False"
      ]
     },
     "execution_count": 19,
     "metadata": {},
     "output_type": "execute_result"
    }
   ],
   "source": [
    "class Palindrome:\n",
    "  def is_palindrome(self, str):\n",
    "    length = len(str)\n",
    "    for n in range(0, int(length/2)):\n",
    "      if str[n] != str[length-n-1]:\n",
    "        return False\n",
    "    return True\n",
    "\n",
    "Palindrome().is_palindrome(\"abbaa\")"
   ]
  },
  {
   "cell_type": "code",
   "execution_count": 20,
   "id": "5888faf7",
   "metadata": {},
   "outputs": [
    {
     "data": {
      "text/plain": [
       "int"
      ]
     },
     "execution_count": 20,
     "metadata": {},
     "output_type": "execute_result"
    }
   ],
   "source": [
    "type(1)"
   ]
  },
  {
   "cell_type": "code",
   "execution_count": 22,
   "id": "025c0b72",
   "metadata": {},
   "outputs": [
    {
     "data": {
      "text/plain": [
       "int"
      ]
     },
     "execution_count": 22,
     "metadata": {},
     "output_type": "execute_result"
    }
   ],
   "source": [
    "import math\n",
    "type(math.floor(0.5))"
   ]
  },
  {
   "cell_type": "code",
   "execution_count": null,
   "id": "52d2585e",
   "metadata": {},
   "outputs": [],
   "source": []
  }
 ],
 "metadata": {
  "kernelspec": {
   "display_name": "Python 3",
   "language": "python",
   "name": "python3"
  },
  "language_info": {
   "codemirror_mode": {
    "name": "ipython",
    "version": 3
   },
   "file_extension": ".py",
   "mimetype": "text/x-python",
   "name": "python",
   "nbconvert_exporter": "python",
   "pygments_lexer": "ipython3",
   "version": "3.9.1"
  }
 },
 "nbformat": 4,
 "nbformat_minor": 5
}
